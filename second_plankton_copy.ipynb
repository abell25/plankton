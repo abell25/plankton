{
 "metadata": {
  "name": "",
  "signature": "sha256:d1824aba257d86d34f386aff66414c92354ffc2e4f851ab0bc125b57564f2fa4"
 },
 "nbformat": 3,
 "nbformat_minor": 0,
 "worksheets": [
  {
   "cells": [
    {
     "cell_type": "code",
     "collapsed": false,
     "input": [
      "from skimage.io import imread\n",
      "from skimage.transform import resize\n",
      "from sklearn.ensemble import RandomForestClassifier as RF\n",
      "import glob\n",
      "import os\n",
      "from sklearn import cross_validation\n",
      "from sklearn.cross_validation import StratifiedKFold as KFold\n",
      "from sklearn.metrics import classification_report\n",
      "from matplotlib import pyplot as plt\n",
      "from matplotlib import colors\n",
      "from pylab import cm\n",
      "import numpy as np\n",
      "import pandas as pd\n",
      "\n",
      "from sklearn import decomposition\n",
      "from sklearn.decomposition import RandomizedPCA\n",
      "from sklearn import svm\n",
      "from sklearn import metrics\n",
      "from sklearn.pipeline import Pipeline\n",
      "from sklearn.cross_validation import train_test_split\n",
      "from sklearn.svm import LinearSVC\n",
      "from time import time\n",
      "#from multiprocessing import Pool\n",
      "#pool = Pool(processes = 6)\n",
      "\n",
      "from sklearn.linear_model import SGDClassifier\n",
      "from sklearn.grid_search import GridSearchCV\n",
      "from sklearn.grid_search import GridSearchCV, RandomizedSearchCV\n",
      "from operator import itemgetter\n",
      "from scipy.stats import randint as sp_randint"
     ],
     "language": "python",
     "metadata": {},
     "outputs": [],
     "prompt_number": 1
    },
    {
     "cell_type": "code",
     "collapsed": false,
     "input": [
      "# Scoring function for kaggle competition\n",
      "def multiclass_log_loss(y_true, y_pred, eps=1e-15):\n",
      "    predictions = np.clip(y_pred, eps, 1 - eps)\n",
      "\n",
      "    # normalize row sums to 1\n",
      "    predictions /= predictions.sum(axis=1)[:, np.newaxis]\n",
      "\n",
      "    actual = np.zeros(y_pred.shape)\n",
      "    n_samples = actual.shape[0]\n",
      "    actual[np.arange(n_samples), y_true.astype(int)] = 1\n",
      "    vectsum = np.sum(actual * np.log(predictions))\n",
      "    loss = -1.0 / n_samples * vectsum\n",
      "    return loss\n",
      "\n",
      "# Utility function to report best scores\n",
      "def report(grid_scores, n_top=3):\n",
      "    top_scores = sorted(grid_scores, key=itemgetter(1), reverse=True)[:n_top]\n",
      "    for i, score in enumerate(top_scores):\n",
      "        print(\"Model with rank: {0}\".format(i + 1))\n",
      "        print(\"Mean validation score: {0:.3f} (std: {1:.3f})\".format(\n",
      "              score.mean_validation_score,\n",
      "              np.std(score.cv_validation_scores)))\n",
      "        print(\"Parameters: {0}\".format(score.parameters))\n",
      "        print(\"\")\n",
      "        \n",
      "def print_scoring(y_pred):\n",
      "    y_class = np.array([list(x).index(max(x)) for x in y_submission])\n",
      "    print \"classifier final score:    \", multiclass_log_loss(y_test, y_pred)\n",
      "    print \"f1-score: %.3f   accuracy: %.3f   precision: %.3f   recall: %.3f\" % (metrics.f1_score(y_test, y_pred), \n",
      "        metrics.accuracy_score(y_test, y_pred), metrics.precision_score(y_test, y_pred), metrics.recall_score(y_test, y_pred))\n",
      "    #print metrics.classification_report(y_test, y_pred)\n",
      "        \n",
      "multiclass_log_loss_func = metrics.make_scorer(score_func = multiclass_log_loss, greater_is_better=False, needs_proba=True)"
     ],
     "language": "python",
     "metadata": {},
     "outputs": [],
     "prompt_number": 23
    },
    {
     "cell_type": "code",
     "collapsed": false,
     "input": [
      "data_dir = '/home/tony/ML/plankton/data'\n",
      "\n",
      "train_dir = os.path.join(data_dir, 'train')\n",
      "train_dirs = list(set(glob.glob(os.path.join(train_dir, '*'))))\n",
      "train_paths_by_type = {os.path.basename(path): list(set(glob.glob(os.path.join(path, '*')))) for path in train_dirs}\n",
      "\n",
      "test_dir = os.path.join(data_dir, 'test')\n",
      "test_paths = list(set(glob.glob(os.path.join(test_dir, '*'))))\n",
      "test_files = [os.path.basename(p) for p in test_paths]\n",
      "\n",
      "img_dims = (25,25)\n",
      "img_width, img_height = img_dims\n",
      "imageSize = img_height*img_width\n",
      "num_train_rows = sum([len(n) for n in train_paths_by_type.values()]) #30336\n",
      "num_test_rows = len(test_paths)\n",
      "\n",
      "plankton_types = []\n",
      "train_files = []\n",
      "test_files = []\n",
      "\n"
     ],
     "language": "python",
     "metadata": {},
     "outputs": [],
     "prompt_number": 3
    },
    {
     "cell_type": "code",
     "collapsed": false,
     "input": [
      "%store -r X\n",
      "%store -r y\n",
      "%store -r X_submission\n",
      "%store -r X_submission_images\n",
      "%store -r X_images"
     ],
     "language": "python",
     "metadata": {},
     "outputs": [],
     "prompt_number": 4
    },
    {
     "cell_type": "code",
     "collapsed": false,
     "input": [
      "def load_images():\n",
      "    print \"loading and resizing submission images\"\n",
      "    t0 = time()\n",
      "    file_index = 0\n",
      "    for f in test_paths:\n",
      "        img = imread(f, as_grey=True)\n",
      "        X_submission_images.append(img)\n",
      "        img_resized = resize(img, img_dims)\n",
      "        X_submission[file_index, 0:imageSize] = np.reshape(img_resized, (1, imageSize))\n",
      "        file_index += 1\n",
      "    \n",
      "        report = [int((j+1)/20. * num_test_rows) for j in range(20)]\n",
      "        if file_index in report: print np.ceil(file_index * 100.0 / num_test_rows), \"% done\"\n",
      "    print \"completed reading submission images in %.2f seconds\" % (time()-t0)\n",
      "    \n",
      "    print \"loading and resizing the training images\"\n",
      "    t0 = time()\n",
      "    file_index, type_index = 0, 0\n",
      "    for plankton_type in train_paths_by_type:\n",
      "        files_for_type = train_paths_by_type[plankton_type]\n",
      "        for f in files_for_type:\n",
      "            img = imread(f, as_grey=True)\n",
      "            X_images.append(img)\n",
      "            img_resized = resize(img, img_dims)\n",
      "            train_files.append(f)\n",
      "            X[file_index, 0:imageSize] = np.reshape(img_resized, (1, imageSize))\n",
      "            y[file_index] = type_index\n",
      "            file_index += 1\n",
      "    \n",
      "            report = [int((j+1)/5. * num_train_rows) for j in range(5)]\n",
      "            if file_index in report: print np.ceil(file_index * 100.0 / num_train_rows), \"% done\"\n",
      "        type_index += 1\n",
      "    print \"completed reading training images in %.2f seconds\" % (time()-t0)\n",
      "    \n",
      "    print \"images loaded! X, y are the training images, and X_submission is the test images\"\n",
      "\n",
      "\n",
      "if 'X_images' in globals():\n",
      "    print 'variables already loaded into memory! dont need to read image files.'\n",
      "else:\n",
      "    X = np.zeros((num_train_rows, imageSize), dtype=float)\n",
      "    y = np.zeros(num_train_rows)\n",
      "    X_submission = np.zeros((num_test_rows, imageSize), dtype=float)\n",
      "    X_submission_images, X_images = [], []\n",
      "    load_images()\n",
      "    %store X\n",
      "    %store y\n",
      "    %store X_submission\n",
      "    %store X_submission_images\n",
      "    %store X_images"
     ],
     "language": "python",
     "metadata": {},
     "outputs": [
      {
       "output_type": "stream",
       "stream": "stdout",
       "text": [
        "loading and resizing submission images\n",
        "5.0"
       ]
      },
      {
       "output_type": "stream",
       "stream": "stdout",
       "text": [
        " % done\n",
        "10.0"
       ]
      },
      {
       "output_type": "stream",
       "stream": "stdout",
       "text": [
        " % done\n",
        "15.0"
       ]
      },
      {
       "output_type": "stream",
       "stream": "stdout",
       "text": [
        " % done\n",
        "20.0"
       ]
      },
      {
       "output_type": "stream",
       "stream": "stdout",
       "text": [
        " % done\n",
        "25.0"
       ]
      },
      {
       "output_type": "stream",
       "stream": "stdout",
       "text": [
        " % done\n",
        "30.0"
       ]
      },
      {
       "output_type": "stream",
       "stream": "stdout",
       "text": [
        " % done\n",
        "35.0"
       ]
      },
      {
       "output_type": "stream",
       "stream": "stdout",
       "text": [
        " % done\n",
        "40.0"
       ]
      },
      {
       "output_type": "stream",
       "stream": "stdout",
       "text": [
        " % done\n",
        "45.0"
       ]
      },
      {
       "output_type": "stream",
       "stream": "stdout",
       "text": [
        " % done\n",
        "50.0"
       ]
      },
      {
       "output_type": "stream",
       "stream": "stdout",
       "text": [
        " % done\n",
        "55.0"
       ]
      },
      {
       "output_type": "stream",
       "stream": "stdout",
       "text": [
        " % done\n",
        "60.0"
       ]
      },
      {
       "output_type": "stream",
       "stream": "stdout",
       "text": [
        " % done\n",
        "65.0"
       ]
      },
      {
       "output_type": "stream",
       "stream": "stdout",
       "text": [
        " % done\n",
        "70.0"
       ]
      },
      {
       "output_type": "stream",
       "stream": "stdout",
       "text": [
        " % done\n",
        "75.0"
       ]
      },
      {
       "output_type": "stream",
       "stream": "stdout",
       "text": [
        " % done\n",
        "80.0"
       ]
      },
      {
       "output_type": "stream",
       "stream": "stdout",
       "text": [
        " % done\n",
        "85.0"
       ]
      },
      {
       "output_type": "stream",
       "stream": "stdout",
       "text": [
        " % done\n",
        "90.0"
       ]
      },
      {
       "output_type": "stream",
       "stream": "stdout",
       "text": [
        " % done\n",
        "95.0"
       ]
      },
      {
       "output_type": "stream",
       "stream": "stdout",
       "text": [
        " % done\n",
        "100.0"
       ]
      },
      {
       "output_type": "stream",
       "stream": "stdout",
       "text": [
        " % done\n",
        "completed reading submission images in 908.49 seconds\n",
        "loading and resizing the training images\n",
        "20.0"
       ]
      },
      {
       "output_type": "stream",
       "stream": "stdout",
       "text": [
        " % done\n",
        "40.0"
       ]
      },
      {
       "output_type": "stream",
       "stream": "stdout",
       "text": [
        " % done\n",
        "60.0"
       ]
      },
      {
       "output_type": "stream",
       "stream": "stdout",
       "text": [
        " % done\n",
        "80.0"
       ]
      },
      {
       "output_type": "stream",
       "stream": "stdout",
       "text": [
        " % done\n",
        "100.0"
       ]
      },
      {
       "output_type": "stream",
       "stream": "stdout",
       "text": [
        " % done\n",
        "completed reading training images in 22.47 seconds\n",
        "images loaded! X, y are the training images, and X_submission is the test images\n",
        "Stored 'X' (ndarray)"
       ]
      },
      {
       "output_type": "stream",
       "stream": "stdout",
       "text": [
        "\n",
        "Stored 'y' (ndarray)\n",
        "Stored 'X_submission' (ndarray)"
       ]
      },
      {
       "output_type": "stream",
       "stream": "stdout",
       "text": [
        "\n",
        "Stored 'X_submission_images' (list)"
       ]
      },
      {
       "output_type": "stream",
       "stream": "stdout",
       "text": [
        "\n",
        "Stored 'X_images' (list)"
       ]
      },
      {
       "output_type": "stream",
       "stream": "stdout",
       "text": [
        "\n"
       ]
      }
     ],
     "prompt_number": 11
    },
    {
     "cell_type": "code",
     "collapsed": false,
     "input": [
      "X_train, X_test, y_train, y_test = train_test_split(X, y, test_size=0.30)"
     ],
     "language": "python",
     "metadata": {},
     "outputs": [],
     "prompt_number": 13
    },
    {
     "cell_type": "code",
     "collapsed": false,
     "input": [],
     "language": "python",
     "metadata": {},
     "outputs": [
      {
       "metadata": {},
       "output_type": "pyout",
       "prompt_number": 19,
       "text": [
        "<matplotlib.image.AxesImage at 0x7f1b064ff590>"
       ]
      },
      {
       "metadata": {},
       "output_type": "display_data",
       "png": "[encoded data removed]",
       "text": [
        "<matplotlib.figure.Figure at 0x7f1b065058d0>"
       ]
      }
     ],
     "prompt_number": 19
    },
    {
     "cell_type": "heading",
     "level": 1,
     "metadata": {},
     "source": [
      "Doing classification now:"
     ]
    },
    {
     "cell_type": "code",
     "collapsed": false,
     "input": [
      "from sklearn.ensemble import AdaBoostClassifier"
     ],
     "language": "python",
     "metadata": {},
     "outputs": [],
     "prompt_number": 20
    },
    {
     "cell_type": "code",
     "collapsed": false,
     "input": [
      "# Do parameter-sweep to find the best values\n",
      "\n",
      "pipe = Pipeline(steps=[('pca', RandomizedPCA()), ('ada', AdaBoostClassifier())])\n",
      "\n",
      "param_dist = dict(pca__n_components=[25,50,100],\n",
      "                  pca__whiten=[True,False],\n",
      "                  pca__random_state=[0],\n",
      "                  ada__n_estimators=[50,100,200,400])\n",
      "\n",
      "#grid_search = RandomizedSearchCV(pipe, param_distributions=param_dist, n_jobs=6, n_iter=48, refit=True)\n",
      "grid_search = GridSearchCV(pipe, param_grid=param_dist, n_jobs=4, refit=True)\n",
      "\n",
      "print \"starting at\", datetime.datetime.now()\n",
      "start = time()\n",
      "grid_search.fit(X, y)\n",
      "print \"finished at\", datetime.datetime.now()\n",
      "print(\"Grid Search took %.2f seconds for %d candidate parameter settings.\"\n",
      " % (time() - start, len(grid_search.grid_scores_)))\n",
      "report(grid_search.grid_scores_, 12)"
     ],
     "language": "python",
     "metadata": {},
     "outputs": [
      {
       "output_type": "stream",
       "stream": "stdout",
       "text": [
        "starting at 2015-01-28 21:13:12.763884\n"
       ]
      },
      {
       "output_type": "stream",
       "stream": "stdout",
       "text": [
        "finished at 2015-01-28 21:43:11.592242\n",
        "Grid Search took 1798.83 seconds for 24 candidate parameter settings.\n",
        "Model with rank: 1\n",
        "Mean validation score: 0.158 (std: 0.031)\n",
        "Parameters: {'pca__n_components': 100, 'ada__n_estimators': 50, 'pca__random_state': 0, 'pca__whiten': True}\n",
        "\n",
        "Model with rank: 2\n",
        "Mean validation score: 0.158 (std: 0.031)\n",
        "Parameters: {'pca__n_components': 100, 'ada__n_estimators': 50, 'pca__random_state': 0, 'pca__whiten': False}\n",
        "\n",
        "Model with rank: 3\n",
        "Mean validation score: 0.156 (std: 0.030)\n",
        "Parameters: {'pca__n_components': 50, 'ada__n_estimators': 50, 'pca__random_state': 0, 'pca__whiten': True}\n",
        "\n",
        "Model with rank: 4\n",
        "Mean validation score: 0.156 (std: 0.030)\n",
        "Parameters: {'pca__n_components': 50, 'ada__n_estimators': 50, 'pca__random_state': 0, 'pca__whiten': False}\n",
        "\n",
        "Model with rank: 5\n",
        "Mean validation score: 0.154 (std: 0.029)\n",
        "Parameters: {'pca__n_components': 25, 'ada__n_estimators': 50, 'pca__random_state': 0, 'pca__whiten': True}\n",
        "\n",
        "Model with rank: 6\n",
        "Mean validation score: 0.154 (std: 0.029)\n",
        "Parameters: {'pca__n_components': 25, 'ada__n_estimators': 50, 'pca__random_state': 0, 'pca__whiten': False}\n",
        "\n",
        "Model with rank: 7\n",
        "Mean validation score: 0.144 (std: 0.050)\n",
        "Parameters: {'pca__n_components': 100, 'ada__n_estimators': 100, 'pca__random_state': 0, 'pca__whiten': True}\n",
        "\n",
        "Model with rank: 8\n",
        "Mean validation score: 0.144 (std: 0.050)\n",
        "Parameters: {'pca__n_components': 100, 'ada__n_estimators': 100, 'pca__random_state': 0, 'pca__whiten': False}\n",
        "\n",
        "Model with rank: 9\n",
        "Mean validation score: 0.144 (std: 0.050)\n",
        "Parameters: {'pca__n_components': 100, 'ada__n_estimators': 200, 'pca__random_state': 0, 'pca__whiten': True}\n",
        "\n",
        "Model with rank: 10\n",
        "Mean validation score: 0.144 (std: 0.050)\n",
        "Parameters: {'pca__n_components': 100, 'ada__n_estimators': 200, 'pca__random_state': 0, 'pca__whiten': False}\n",
        "\n",
        "Model with rank: 11\n",
        "Mean validation score: 0.144 (std: 0.050)\n",
        "Parameters: {'pca__n_components': 100, 'ada__n_estimators': 400, 'pca__random_state': 0, 'pca__whiten': True}\n",
        "\n",
        "Model with rank: 12\n",
        "Mean validation score: 0.144 (std: 0.050)\n",
        "Parameters: {'pca__n_components': 100, 'ada__n_estimators': 400, 'pca__random_state': 0, 'pca__whiten': False}\n",
        "\n"
       ]
      }
     ],
     "prompt_number": 22
    },
    {
     "cell_type": "code",
     "collapsed": false,
     "input": [
      "# Now we have the best, we have to turn probability on\n",
      "pipe = Pipeline(steps=[('pca', RandomizedPCA(n_components=40, whiten=True)), ('svm', svm.SVC(C=7.0, kernel='rbf', probability=True))])\n",
      "\n",
      "print \"starting fit and prediction of final model at time:\", datetime.datetime.now()\n",
      "t0 = time()\n",
      "\n",
      "pipe.fit(X, y)\n",
      "y_submission = pipe.predict_proba(X_submission)\n",
      "y_class = np.array([list(x).index(max(x)) for x in y_submission])\n",
      "\n",
      "print \"completed fit and prediction in %.2f seconds\" % (time()-t0)"
     ],
     "language": "python",
     "metadata": {},
     "outputs": [
      {
       "output_type": "stream",
       "stream": "stdout",
       "text": [
        "starting fit and prediction of final model at time: 2015-01-25 21:16:42.008067\n",
        "completed fit and prediction in 994.17 seconds"
       ]
      },
      {
       "output_type": "stream",
       "stream": "stdout",
       "text": [
        "\n"
       ]
      }
     ],
     "prompt_number": 172
    },
    {
     "cell_type": "heading",
     "level": 1,
     "metadata": {},
     "source": [
      "Generating the submission"
     ]
    },
    {
     "cell_type": "code",
     "collapsed": false,
     "input": [
      "submission_filenames = np.array([os.path.basename(x) for x in test_paths])\n",
      "df = pd.DataFrame(y_submission, columns=train_paths_by_type.keys(), index=submission_filenames)\n",
      "df.index.name = 'image'\n",
      "header = sort(train_paths_by_type.keys())\n",
      "df = df[header]\n",
      "df.to_csv('fourth_submission.csv')"
     ],
     "language": "python",
     "metadata": {},
     "outputs": [],
     "prompt_number": 173
    },
    {
     "cell_type": "code",
     "collapsed": false,
     "input": [
      "!gzip fourth_submission.csv"
     ],
     "language": "python",
     "metadata": {},
     "outputs": [],
     "prompt_number": 174
    },
    {
     "cell_type": "code",
     "collapsed": false,
     "input": [
      "!ls *.gz"
     ],
     "language": "python",
     "metadata": {},
     "outputs": [
      {
       "output_type": "stream",
       "stream": "stdout",
       "text": [
        "first_submission (copy).csv.gz\tfourth_submission.csv.gz  third_submission.csv.gz\r\n",
        "first_submission.csv.gz\t\tsecond_submission.csv.gz\r\n"
       ]
      }
     ],
     "prompt_number": 175
    },
    {
     "cell_type": "code",
     "collapsed": false,
     "input": [
      "%pwd"
     ],
     "language": "python",
     "metadata": {},
     "outputs": [
      {
       "metadata": {},
       "output_type": "pyout",
       "prompt_number": 158,
       "text": [
        "u'/home/tony/code/python/notebooks/plankton'"
       ]
      }
     ],
     "prompt_number": 158
    }
   ],
   "metadata": {}
  }
 ]
}