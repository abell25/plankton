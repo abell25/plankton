{
 "metadata": {
  "name": "",
  "signature": "sha256:41337e648c81f42fca7a328a5d2b586169dc9d1dd5da3980c711758d43f39c1b"
 },
 "nbformat": 3,
 "nbformat_minor": 0,
 "worksheets": [
  {
   "cells": [
    {
     "cell_type": "code",
     "collapsed": false,
     "input": [
      "from skimage.io import imread\n",
      "from skimage.transform import resize\n",
      "from sklearn.ensemble import RandomForestClassifier as RF\n",
      "import glob\n",
      "import os\n",
      "from sklearn import cross_validation\n",
      "from sklearn.cross_validation import StratifiedKFold as KFold\n",
      "from sklearn.metrics import classification_report\n",
      "from matplotlib import pyplot as plt\n",
      "from matplotlib import colors\n",
      "from pylab import cm\n",
      "import numpy as np\n",
      "import pandas as pd\n",
      "\n",
      "from sklearn import decomposition\n",
      "from sklearn.decomposition import RandomizedPCA\n",
      "from sklearn import svm\n",
      "from sklearn import metrics\n",
      "from sklearn.pipeline import Pipeline\n",
      "from sklearn.cross_validation import train_test_split\n",
      "from sklearn.svm import LinearSVC\n",
      "from time import time\n",
      "#from multiprocessing import Pool\n",
      "#pool = Pool(processes = 6)\n",
      "\n",
      "from sklearn.linear_model import SGDClassifier\n",
      "from sklearn.grid_search import GridSearchCV, RandomizedSearchCV\n",
      "from operator import itemgetter\n",
      "from scipy.stats import randint as sp_randint"
     ],
     "language": "python",
     "metadata": {},
     "outputs": [],
     "prompt_number": 7
    },
    {
     "cell_type": "code",
     "collapsed": false,
     "input": [
      "metrics.make_scorer(needs_proba=true, score)"
     ],
     "language": "python",
     "metadata": {},
     "outputs": [
      {
       "ename": "SyntaxError",
       "evalue": "non-keyword arg after keyword arg (<ipython-input-8-c07f0fcb2e0c>, line 1)",
       "output_type": "pyerr",
       "traceback": [
        "\u001b[1;36m  File \u001b[1;32m\"<ipython-input-8-c07f0fcb2e0c>\"\u001b[1;36m, line \u001b[1;32m1\u001b[0m\n\u001b[1;33m    metrics.make_scorer(needs_proba=true, score)\u001b[0m\n\u001b[1;31mSyntaxError\u001b[0m\u001b[1;31m:\u001b[0m non-keyword arg after keyword arg\n"
       ]
      }
     ],
     "prompt_number": 8
    },
    {
     "cell_type": "code",
     "collapsed": false,
     "input": [
      "import elm\n",
      "import random_layer\n",
      "from sklearn.linear_model import LogisticRegression"
     ],
     "language": "python",
     "metadata": {},
     "outputs": [],
     "prompt_number": 17
    },
    {
     "cell_type": "code",
     "collapsed": false,
     "input": [
      "def make_classifiers():\n",
      "\n",
      "    names = [\"ELM(10,tanh)\", \"ELM(10,tanh,LR)\", \"ELM(10,sinsq)\",\n",
      "             \"ELM(10,tribas)\", \"ELM(hardlim)\", \"ELM(20,rbf(0.1))\"]\n",
      "\n",
      "    nh = 10\n",
      "\n",
      "    # pass user defined transfer func\n",
      "    sinsq = (lambda x: np.power(np.sin(x), 2.0))\n",
      "    srhl_sinsq = random_layer.MLPRandomLayer(n_hidden=nh, activation_func=sinsq)\n",
      "\n",
      "    # use internal transfer funcs\n",
      "    srhl_tanh = random_layer.MLPRandomLayer(n_hidden=nh, activation_func='tanh')\n",
      "\n",
      "    srhl_tribas = random_layer.MLPRandomLayer(n_hidden=nh, activation_func='tribas')\n",
      "\n",
      "    srhl_hardlim = random_layer.MLPRandomLayer(n_hidden=nh, activation_func='hardlim')\n",
      "\n",
      "    # use gaussian RBF\n",
      "    srhl_rbf = random_layer.RBFRandomLayer(n_hidden=nh*2, rbf_width=0.1, random_state=0)\n",
      "\n",
      "    log_reg = LogisticRegression()\n",
      "\n",
      "    classifiers = [elm.GenELMClassifier(hidden_layer=srhl_tanh),\n",
      "                   elm.GenELMClassifier(hidden_layer=srhl_tanh, regressor=log_reg),\n",
      "                   elm.GenELMClassifier(hidden_layer=srhl_sinsq),\n",
      "                   elm.GenELMClassifier(hidden_layer=srhl_tribas),\n",
      "                   elm.GenELMClassifier(hidden_layer=srhl_hardlim),\n",
      "                   elm.GenELMClassifier(hidden_layer=srhl_rbf)]\n",
      "\n",
      "    return names, classifiers"
     ],
     "language": "python",
     "metadata": {},
     "outputs": [],
     "prompt_number": 18
    },
    {
     "cell_type": "code",
     "collapsed": false,
     "input": [
      "names, classifiers = make_classifiers()\n",
      "print names"
     ],
     "language": "python",
     "metadata": {},
     "outputs": [
      {
       "output_type": "stream",
       "stream": "stdout",
       "text": [
        "['ELM(10,tanh)', 'ELM(10,tanh,LR)', 'ELM(10,sinsq)', 'ELM(10,tribas)', 'ELM(hardlim)', 'ELM(20,rbf(0.1))']\n"
       ]
      }
     ],
     "prompt_number": 21
    },
    {
     "cell_type": "code",
     "collapsed": false,
     "input": [],
     "language": "python",
     "metadata": {},
     "outputs": [
      {
       "metadata": {},
       "output_type": "pyout",
       "prompt_number": 20,
       "text": [
        "['ELM(10,tanh)',\n",
        " 'ELM(10,tanh,LR)',\n",
        " 'ELM(10,sinsq)',\n",
        " 'ELM(10,tribas)',\n",
        " 'ELM(hardlim)',\n",
        " 'ELM(20,rbf(0.1))']"
       ]
      }
     ],
     "prompt_number": 20
    },
    {
     "cell_type": "code",
     "collapsed": false,
     "input": [],
     "language": "python",
     "metadata": {},
     "outputs": []
    }
   ],
   "metadata": {}
  }
 ]
}