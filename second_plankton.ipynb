{
 "metadata": {
  "name": "",
  "signature": "sha256:1a42265c8da38b9242e7128e0d250fe8255439ec55d6ade7b919d0d59cca7f41"
 },
 "nbformat": 3,
 "nbformat_minor": 0,
 "worksheets": [
  {
   "cells": [
    {
     "cell_type": "code",
     "collapsed": false,
     "input": [
      "from skimage.io import imread\n",
      "from skimage.transform import resize\n",
      "from sklearn.ensemble import RandomForestClassifier as RF\n",
      "import glob\n",
      "import os\n",
      "from sklearn import cross_validation\n",
      "\n",
      "from sklearn.cross_validation import StratifiedKFold as KFold\n",
      "from sklearn.metrics import classification_report\n",
      "from matplotlib import pyplot as plt\n",
      "from matplotlib import colors\n",
      "from pylab import cm\n",
      "import numpy as np\n",
      "import pandas as pd\n",
      "\n",
      "from sklearn import decomposition\n",
      "from sklearn.decomposition import RandomizedPCA\n",
      "from sklearn import svm\n",
      "from sklearn import metrics\n",
      "from sklearn.pipeline import Pipeline\n",
      "from sklearn.cross_validation import train_test_split\n",
      "from sklearn.svm import LinearSVC\n",
      "from time import time\n",
      "#from multiprocessing import Pool\n",
      "#pool = Pool(processes = 6)\n",
      "\n",
      "from sklearn.linear_model import SGDClassifier\n",
      "from sklearn.grid_search import GridSearchCV\n",
      "from sklearn.grid_search import GridSearchCV, RandomizedSearchCV\n",
      "from operator import itemgetter\n",
      "from scipy.stats import randint as sp_randint"
     ],
     "language": "python",
     "metadata": {},
     "outputs": [],
     "prompt_number": 2
    },
    {
     "cell_type": "code",
     "collapsed": false,
     "input": [
      "# Scoring function for kaggle competition\n",
      "def multiclass_log_loss(y_true, y_pred, eps=1e-15):\n",
      "    predictions = np.clip(y_pred, eps, 1 - eps)\n",
      "\n",
      "    # normalize row sums to 1\n",
      "    predictions /= predictions.sum(axis=1)[:, np.newaxis]\n",
      "\n",
      "    actual = np.zeros(y_pred.shape)\n",
      "    n_samples = actual.shape[0]\n",
      "    actual[np.arange(n_samples), y_true.astype(int)] = 1\n",
      "    vectsum = np.sum(actual * np.log(predictions))\n",
      "    loss = -1.0 / n_samples * vectsum\n",
      "    return loss\n",
      "\n",
      "# Utility function to report best scores\n",
      "def report(grid_scores, n_top=3):\n",
      "    top_scores = sorted(grid_scores, key=itemgetter(1), reverse=True)[:n_top]\n",
      "    for i, score in enumerate(top_scores):\n",
      "        print(\"Model with rank: {0}\".format(i + 1))\n",
      "        print(\"Mean validation score: {0:.3f} (std: {1:.3f})\".format(\n",
      "              score.mean_validation_score,\n",
      "              np.std(score.cv_validation_scores)))\n",
      "        print(\"Parameters: {0}\".format(score.parameters))\n",
      "        print(\"\")\n",
      " \n",
      "def print_scoring(y_pred):\n",
      "    y_class = np.array([list(x).index(max(x)) for x in y_pred])\n",
      "    print \"classifier final score:    \", multiclass_log_loss(y_test, y_pred)\n",
      "    print \"f1-score: %.3f   accuracy: %.3f   precision: %.3f   recall: %.3f\" % (metrics.f1_score(y_test, y_class), \n",
      "        metrics.accuracy_score(y_test, y_class), metrics.precision_score(y_test, y_class), metrics.recall_score(y_test, y_class))\n",
      "    #print metrics.classification_report(y_test, y_pred)\n",
      "    \n",
      "def plot_cv_results_orig(grid_search):\n",
      "    #print grid_search.grid_scores_[0][0].keys()\n",
      "    types = [x for x in grid_search.grid_scores_[0][0].keys() if isinstance( grid_search.grid_scores_[0][0][x], ( int, float, long, complex ) ) ]\n",
      "    #print types\n",
      "    num_figures = len(types)\n",
      "    fig = plt.figure(figsize=(16,4))\n",
      "    for i in range(num_figures):\n",
      "        param = types[i]\n",
      "        ax = fig.add_subplot(1,num_figures, i+1, xticks=[], yticks=[])\n",
      "        vals = np.array([[x[0][param], x[1]] for x in grid_search.grid_scores_])\n",
      "        vals = vals.T\n",
      "        ax.scatter(vals[0,:], vals[1,:])\n",
      "        plt.xlabel(param)\n",
      "        plt.ylabel('score')\n",
      "        \n",
      "def plot_cv_results(grid_search):\n",
      "    num_figures = len(grid_search.grid_scores_[0][0].keys())\n",
      "\n",
      "    fig = plt.figure(figsize=(16,4))\n",
      "    for i in range(num_figures):\n",
      "        param = grid_search.grid_scores_[0][0].keys()[i]\n",
      "\n",
      "        ax = fig.add_subplot(1,num_figures, i+1, xticks=[], yticks=[])\n",
      "        \n",
      "        val = grid_search.grid_scores_[0][0][param]\n",
      "        if isinstance(val, ( int, float, long, complex )):\n",
      "            vals = np.array([[x[0][param], x[1]] for x in grid_search.grid_scores_])\n",
      "        elif isinstance(val, ( bool )):\n",
      "            vals = np.array([[int(x[0][param]), x[1]] for x in grid_search.grid_scores_])\n",
      "        elif isinstance(val, ( str )):\n",
      "            lst = list(set(([x[0][param] for x in grid_search.grid_scores_])))\n",
      "            vals = np.array([[lst.index(x[0][param]), x[1]] for x in grid_search.grid_scores_])\n",
      "        print vals\n",
      "        vals = vals.T\n",
      "        \n",
      "        ax.scatter(vals[0,:], vals[1,:])\n",
      "        plt.xlabel(param)\n",
      "        plt.ylabel('score')\n",
      "    \n",
      "multiclass_log_loss_func = metrics.make_scorer(score_func = multiclass_log_loss, greater_is_better=False, needs_proba=True)"
     ],
     "language": "python",
     "metadata": {},
     "outputs": [],
     "prompt_number": 3
    },
    {
     "cell_type": "code",
     "collapsed": false,
     "input": [
      "data_dir = '/home/tony/ML/plankton/data'\n",
      "\n",
      "train_dir = os.path.join(data_dir, 'train')\n",
      "train_dirs = list(set(glob.glob(os.path.join(train_dir, '*'))))\n",
      "train_paths_by_type = {os.path.basename(path): list(set(glob.glob(os.path.join(path, '*')))) for path in train_dirs}\n",
      "\n",
      "test_dir = os.path.join(data_dir, 'test')\n",
      "test_paths = list(set(glob.glob(os.path.join(test_dir, '*'))))\n",
      "test_files = [os.path.basename(p) for p in test_paths]\n",
      "\n",
      "img_dims = (25,25)\n",
      "img_width, img_height = img_dims\n",
      "imageSize = img_height*img_width\n",
      "num_train_rows = sum([len(n) for n in train_paths_by_type.values()]) #30336\n",
      "num_test_rows = len(test_paths)\n",
      "\n",
      "plankton_types = []\n",
      "train_files = []\n",
      "test_files = []\n",
      "\n"
     ],
     "language": "python",
     "metadata": {},
     "outputs": [],
     "prompt_number": 4
    },
    {
     "cell_type": "code",
     "collapsed": false,
     "input": [
      "%store -r X\n",
      "%store -r y\n",
      "%store -r X_submission"
     ],
     "language": "python",
     "metadata": {},
     "outputs": [],
     "prompt_number": 4
    },
    {
     "cell_type": "code",
     "collapsed": false,
     "input": [
      "def load_images():\n",
      "    print \"loading and resizing submission images\"\n",
      "    t0 = time()\n",
      "    file_index = 0\n",
      "    for f in test_paths:\n",
      "        img = imread(f, as_grey=True)\n",
      "        img_resized = resize(img, img_dims)\n",
      "        X_submission[file_index, 0:imageSize] = np.reshape(img_resized, (1, imageSize))\n",
      "        file_index += 1\n",
      "    \n",
      "        report = [int((j+1)/20. * num_test_rows) for j in range(20)]\n",
      "        if file_index in report: print np.ceil(file_index * 100.0 / num_test_rows), \"% done\"\n",
      "    print \"completed reading submission images in %.2f seconds\" % (time()-t0)\n",
      "    \n",
      "    print \"loading and resizing the training images\"\n",
      "    t0 = time()\n",
      "    file_index, type_index = 0, 0\n",
      "    for plankton_type in train_paths_by_type:\n",
      "        files_for_type = train_paths_by_type[plankton_type]\n",
      "        for f in files_for_type:\n",
      "            img = imread(f, as_grey=True)\n",
      "            img_resized = resize(img, img_dims)\n",
      "            train_files.append(f)\n",
      "            X[file_index, 0:imageSize] = np.reshape(img_resized, (1, imageSize))\n",
      "            y[file_index] = type_index\n",
      "            file_index += 1\n",
      "    \n",
      "            report = [int((j+1)/5. * num_train_rows) for j in range(5)]\n",
      "            if file_index in report: print np.ceil(file_index * 100.0 / num_train_rows), \"% done\"\n",
      "        type_index += 1\n",
      "    print \"completed reading training images in %.2f seconds\" % (time()-t0)\n",
      "    \n",
      "    print \"images loaded! X, y are the training images, and X_submission is the test images\"\n",
      "\n",
      "\n",
      "if 'X' in globals():\n",
      "    print 'variables already loaded into memory! dont need to read image files.'\n",
      "else:\n",
      "    X = np.zeros((num_train_rows, imageSize), dtype=float)\n",
      "    y = np.zeros(num_train_rows)\n",
      "    X_submission = np.zeros((num_test_rows, imageSize), dtype=float)\n",
      "    load_images()\n",
      "    %store X\n",
      "    %store y\n",
      "    %store X_submission"
     ],
     "language": "python",
     "metadata": {},
     "outputs": [
      {
       "output_type": "stream",
       "stream": "stdout",
       "text": [
        "variables already loaded into memory! dont need to read image files.\n"
       ]
      }
     ],
     "prompt_number": 5
    },
    {
     "cell_type": "code",
     "collapsed": false,
     "input": [
      "X_train, X_test, y_train, y_test = train_test_split(X, y, test_size=0.30)"
     ],
     "language": "python",
     "metadata": {},
     "outputs": [],
     "prompt_number": 6
    },
    {
     "cell_type": "code",
     "collapsed": false,
     "input": [
      "%store -r X_train_pca\n",
      "%store -r X_test_pca\n",
      "%store -r X_submission_pca\n",
      "    \n",
      "if 'X_train_pca' in globals():\n",
      "    print 'pca variables already loaded into memory! dont need to read image files.'\n",
      "else:\n",
      "    print \"performing pca\"\n",
      "    n_components = 100\n",
      "    pca = RandomizedPCA(n_components=n_components, whiten=True).fit(X_train)\n",
      "    print \"doing dimensionality reduction for training set\"\n",
      "    X_train_pca = pca.transform(X_train)\n",
      "    X_test_pca = pca.transform(X_test)\n",
      "    print \"completed\"\n",
      "    print \"doing dimensionality reduction for submission set\"\n",
      "    X_submission_pca = pca.transform(X_submission)\n",
      "    print \"completed\"\n",
      "    print \"saving variable values\"\n",
      "    %store X_train_pca\n",
      "    %store X_test_pca\n",
      "    %store X_submission_pca\n",
      "    print \"pca variables saved into memory\""
     ],
     "language": "python",
     "metadata": {},
     "outputs": [
      {
       "output_type": "stream",
       "stream": "stdout",
       "text": [
        "pca variables already loaded into memory! dont need to read image files.\n"
       ]
      }
     ],
     "prompt_number": 7
    },
    {
     "cell_type": "code",
     "collapsed": false,
     "input": [
      "#maybe check of SGD with hinge loss next time for a faster classifier\n",
      "%store -r clf\n",
      "if 'clf' in globals():\n",
      "    print \"have classifier cached!\"\n",
      "else:\n",
      "    t0 = time()\n",
      "    clf = svm.SVC(C=1.0, probability=True)\n",
      "    clf.fit(X_train_pca, y_train)\n",
      "    print \"completed training classifier in %.2f seconds\" % (time()-t0)\n",
      "    %store clf"
     ],
     "language": "python",
     "metadata": {},
     "outputs": [
      {
       "output_type": "stream",
       "stream": "stdout",
       "text": [
        "have classifier cached!\n"
       ]
      }
     ],
     "prompt_number": 8
    },
    {
     "cell_type": "code",
     "collapsed": false,
     "input": [
      "print \"starting prediction of test_data\"\n",
      "t0 = time()\n",
      "y_pred = clf.predict_proba(X_test_pca)\n",
      "y_class = np.array([list(x).index(max(x)) for x in y_pred])\n",
      "print \"completed predition of test_data in %.2f seconds\" % (time()-t0)\n",
      "\n",
      "if 'y_submission' not in globals():\n",
      "    print \"starting prediction of submission data\"\n",
      "    t0 = time()\n",
      "    y_submission = clf.predict_proba(X_submission_pca)\n",
      "    print \"completed predition of test_data in %.2f seconds\" % (time()-t0)\n",
      "    %store y_submission"
     ],
     "language": "python",
     "metadata": {},
     "outputs": [
      {
       "output_type": "stream",
       "stream": "stdout",
       "text": [
        "starting prediction of test_data\n",
        "completed predition of test_data in 47.78 seconds"
       ]
      },
      {
       "output_type": "stream",
       "stream": "stdout",
       "text": [
        "\n",
        "starting prediction of submission data\n",
        "completed predition of test_data in 703.19 seconds"
       ]
      },
      {
       "output_type": "stream",
       "stream": "stdout",
       "text": [
        "\n",
        "Stored 'y_submission' (ndarray)"
       ]
      },
      {
       "output_type": "stream",
       "stream": "stdout",
       "text": [
        "\n"
       ]
      }
     ],
     "prompt_number": 42
    },
    {
     "cell_type": "code",
     "collapsed": false,
     "input": [
      "submission_filenames = np.array([os.path.basename(x) for x in test_paths])\n",
      "df = pd.DataFrame(y_submission, columns=train_paths_by_type.keys(), index=submission_filenames)\n",
      "df.index.name = 'image'\n",
      "header = sort(train_paths_by_type.keys())\n",
      "df = df[header]\n",
      "df.to_csv('second_submission.csv')"
     ],
     "language": "python",
     "metadata": {},
     "outputs": [],
     "prompt_number": 62
    },
    {
     "cell_type": "code",
     "collapsed": false,
     "input": [
      "!gzip second_submission.csv"
     ],
     "language": "python",
     "metadata": {},
     "outputs": [],
     "prompt_number": 66
    },
    {
     "cell_type": "code",
     "collapsed": false,
     "input": [
      "!ls -l *.csv.gz"
     ],
     "language": "python",
     "metadata": {},
     "outputs": [
      {
       "output_type": "stream",
       "stream": "stdout",
       "text": [
        "-rw-rw-r-- 1 tony tony 146821206 Jan 25 11:42 first_submission.csv.gz\r\n"
       ]
      }
     ],
     "prompt_number": 67
    },
    {
     "cell_type": "code",
     "collapsed": false,
     "input": [
      "%pwd"
     ],
     "language": "python",
     "metadata": {},
     "outputs": [
      {
       "output_type": "stream",
       "stream": "stdout",
       "text": [
        "-rw-rw-r-- 1 tony tony 146821206 Jan 25 11:42 first_submission (copy).csv.gz\r\n",
        "-rw-rw-r-- 1 tony tony 146821206 Jan 25 11:42 first_submission.csv.gz\r\n"
       ]
      }
     ],
     "prompt_number": 78
    },
    {
     "cell_type": "code",
     "collapsed": false,
     "input": [
      "\n"
     ],
     "language": "python",
     "metadata": {},
     "outputs": [
      {
       "output_type": "stream",
       "stream": "stdout",
       "text": [
        "(9101, 121)\n"
       ]
      }
     ],
     "prompt_number": 106
    },
    {
     "cell_type": "code",
     "collapsed": false,
     "input": [
      "print \"f1-score: %.3f   accuracy: %.3f   precision: %.3f   recall: %.3f\" % (metrics.f1_score(y_test, y_class), \n",
      "    metrics.accuracy_score(y_test, y_class), metrics.precision_score(y_test, y_class), metrics.recall_score(y_test, y_class))\n",
      "print \"classifier final score:    \", multiclass_log_loss(y_test, y_pred)\n",
      "print metrics.classification_report(y_test, y_class)"
     ],
     "language": "python",
     "metadata": {},
     "outputs": [
      {
       "output_type": "stream",
       "stream": "stdout",
       "text": [
        "f1-score: 0.436   accuracy: 0.468   precision: 0.442   recall: 0.468\n",
        "             precision    recall  f1-score   support\n",
        "\n",
        "        0.0       0.63      0.59      0.61       122\n",
        "        1.0       0.29      0.13      0.18        53\n",
        "        2.0       1.00      0.08      0.14        13\n",
        "        3.0       0.60      0.12      0.21        24\n",
        "        4.0       0.09      0.05      0.07        99\n",
        "        5.0       0.32      0.29      0.31        51\n",
        "        6.0       0.54      0.39      0.45        18\n",
        "        7.0       0.33      0.05      0.09        38\n",
        "        8.0       0.34      0.40      0.37       146\n",
        "        9.0       0.17      0.17      0.17       102\n",
        "       10.0       0.61      0.69      0.65       229\n",
        "       11.0       0.30      0.21      0.24       139\n",
        "       12.0       0.00      0.00      0.00        19\n",
        "       13.0       0.62      0.33      0.43        15\n",
        "       14.0       0.00      0.00      0.00         5\n",
        "       15.0       0.00      0.00      0.00         9\n",
        "       16.0       0.67      0.60      0.63        20\n",
        "       17.0       0.24      0.28      0.26       134\n",
        "       18.0       0.00      0.00      0.00         3\n",
        "       19.0       1.00      0.38      0.55         8\n",
        "       20.0       0.53      0.30      0.39       204\n",
        "       21.0       0.00      0.00      0.00        12\n",
        "       22.0       0.00      0.00      0.00         6\n",
        "       23.0       0.00      0.00      0.00        17\n",
        "       24.0       0.50      0.42      0.45        12\n",
        "       25.0       0.80      0.15      0.25        27\n",
        "       26.0       0.00      0.00      0.00         5\n",
        "       27.0       0.53      0.24      0.33        37\n",
        "       28.0       0.57      0.17      0.26        47\n",
        "       29.0       0.73      0.27      0.39        30\n",
        "       30.0       0.24      0.08      0.12        48\n",
        "       31.0       0.64      0.56      0.60        25\n",
        "       32.0       0.60      0.09      0.16        32\n",
        "       33.0       0.00      0.00      0.00         4\n",
        "       34.0       0.35      0.21      0.26       153\n",
        "       35.0       0.00      0.00      0.00        49\n",
        "       36.0       0.00      0.00      0.00        12\n",
        "       37.0       0.50      0.15      0.24        13\n",
        "       38.0       0.64      0.73      0.68       281\n",
        "       39.0       0.20      0.09      0.12        35\n",
        "       40.0       0.00      0.00      0.00         8\n",
        "       41.0       0.29      0.10      0.15        20\n",
        "       42.0       0.42      0.56      0.48       326\n",
        "       43.0       0.25      0.36      0.30       293\n",
        "       44.0       0.67      0.37      0.48        27\n",
        "       45.0       0.15      0.05      0.08        97\n",
        "       46.0       0.26      0.18      0.21        84\n",
        "       47.0       0.00      0.00      0.00         5\n",
        "       48.0       0.00      0.00      0.00         6\n",
        "       49.0       0.00      0.00      0.00         7\n",
        "       50.0       0.52      0.62      0.57        73\n",
        "       51.0       0.00      0.00      0.00        42\n",
        "       52.0       0.00      0.00      0.00        12\n",
        "       53.0       0.00      0.00      0.00        10\n",
        "       54.0       0.45      0.76      0.56       262\n",
        "       55.0       0.19      0.13      0.15        38\n",
        "       56.0       0.48      0.69      0.57       111\n",
        "       57.0       0.00      0.00      0.00        19\n",
        "       58.0       0.32      0.52      0.39       207\n",
        "       59.0       0.00      0.00      0.00        18\n",
        "       60.0       0.00      0.00      0.00         6\n",
        "       61.0       0.42      0.34      0.38        71\n",
        "       62.0       0.38      0.57      0.46        28\n",
        "       63.0       0.00      0.00      0.00        17\n",
        "       64.0       0.17      0.08      0.11        71\n",
        "       65.0       0.27      0.27      0.27        56\n",
        "       66.0       0.19      0.42      0.26        55\n",
        "       67.0       0.40      0.57      0.47       188\n",
        "       68.0       0.00      0.00      0.00         4\n",
        "       69.0       0.32      0.18      0.23        66\n",
        "       70.0       0.29      0.09      0.14        22\n",
        "       71.0       0.00      0.00      0.00         7\n",
        "       72.0       0.54      0.30      0.38        84\n",
        "       73.0       0.11      0.05      0.07        63\n",
        "       74.0       0.50      0.03      0.05        38\n",
        "       75.0       0.00      0.00      0.00        19\n",
        "       76.0       0.00      0.00      0.00        10\n",
        "       77.0       0.00      0.00      0.00         4\n",
        "       78.0       1.00      0.20      0.33         5\n",
        "       79.0       0.62      0.58      0.60       120\n",
        "       80.0       0.50      0.40      0.44         5\n",
        "       81.0       0.56      0.64      0.60        36\n",
        "       82.0       0.73      0.74      0.74       162\n",
        "       83.0       0.57      0.59      0.58       202\n",
        "       84.0       0.26      0.28      0.27        25\n",
        "       85.0       0.90      0.32      0.47        28\n",
        "       86.0       0.06      0.03      0.04       142\n",
        "       87.0       0.62      0.35      0.44        52\n",
        "       88.0       0.11      0.03      0.05       121\n",
        "       89.0       0.82      0.92      0.87       603\n",
        "       90.0       0.42      0.57      0.49       209\n",
        "       91.0       0.34      0.34      0.34        88\n",
        "       92.0       0.38      0.21      0.27        58\n",
        "       93.0       0.00      0.00      0.00         4\n",
        "       94.0       0.00      0.00      0.00         4\n",
        "       95.0       0.07      0.07      0.07        41\n",
        "       96.0       0.43      0.08      0.14        37\n",
        "       97.0       0.17      0.02      0.04        43\n",
        "       98.0       0.31      0.47      0.38       189\n",
        "       99.0       0.43      0.24      0.31        25\n",
        "      100.0       0.50      0.07      0.12        15\n",
        "      101.0       0.80      0.42      0.55        19\n",
        "      102.0       0.45      0.24      0.32        41\n",
        "      103.0       0.00      0.00      0.00        21\n",
        "      104.0       0.76      0.79      0.78       110\n",
        "      105.0       0.77      0.75      0.76       393\n",
        "      106.0       0.33      0.29      0.31        38\n",
        "      107.0       0.11      0.16      0.13        19\n",
        "      108.0       0.17      0.40      0.24        20\n",
        "      109.0       0.45      0.68      0.54       602\n",
        "      110.0       1.00      0.09      0.17        11\n",
        "      111.0       0.00      0.00      0.00        16\n",
        "      112.0       0.64      0.91      0.75       162\n",
        "      113.0       0.00      0.00      0.00        12\n",
        "      114.0       0.41      0.42      0.41       151\n",
        "      115.0       0.30      0.07      0.11        44\n",
        "      116.0       0.51      0.90      0.65       108\n",
        "      117.0       0.00      0.00      0.00         2\n",
        "      118.0       0.15      0.16      0.16       134\n",
        "      119.0       0.09      0.07      0.08        30\n",
        "      120.0       0.60      0.62      0.61       184\n",
        "\n",
        "avg / total       0.44      0.47      0.44      9101\n",
        "\n",
        "classifier final score:     "
       ]
      },
      {
       "output_type": "stream",
       "stream": "stdout",
       "text": [
        "2.25894727826\n"
       ]
      },
      {
       "output_type": "stream",
       "stream": "stderr",
       "text": [
        "/home/tony/anaconda/lib/python2.7/site-packages/sklearn/metrics/metrics.py:1771: UndefinedMetricWarning: F-score is ill-defined and being set to 0.0 in labels with no predicted samples.\n",
        "  'precision', 'predicted', average, warn_for)\n",
        "/home/tony/anaconda/lib/python2.7/site-packages/sklearn/metrics/metrics.py:1771: UndefinedMetricWarning: Precision is ill-defined and being set to 0.0 in labels with no predicted samples.\n",
        "  'precision', 'predicted', average, warn_for)\n"
       ]
      }
     ],
     "prompt_number": 108
    },
    {
     "cell_type": "heading",
     "level": 1,
     "metadata": {},
     "source": [
      "Doing a parameter sweep"
     ]
    },
    {
     "cell_type": "code",
     "collapsed": false,
     "input": [],
     "language": "python",
     "metadata": {},
     "outputs": [],
     "prompt_number": 9
    },
    {
     "cell_type": "code",
     "collapsed": false,
     "input": [
      "pipe = Pipeline(steps=[('pca', RandomizedPCA()), ('svm', svm.SVC())])\n",
      "\n",
      "param_dist = dict(pca__n_components=[20,40,60],\n",
      "                  pca__whiten=[True],\n",
      "                  pca__random_state=[0],\n",
      "                  svm__C=[6.0,7.0,8.0,10.0,12.0,14.0,16.0,20.0,30.0,40.0,50.0,100.0],\n",
      "                  svm__kernel=[\"rbf\"])\n",
      "\n",
      "#grid_search = RandomizedSearchCV(pipe, param_distributions=param_dist, n_jobs=6, n_iter=24)\n",
      "grid_search = GridSearchCV(pipe, param_grid=param_dist, n_jobs=6, refit=False)\n",
      "\n",
      "print \"starting at\", datetime.datetime.now()\n",
      "start = time()\n",
      "grid_search.fit(X, y)\n",
      "print \"finished at\", datetime.datetime.now()\n",
      "print(\"Grid Search took %.2f seconds for %d candidate parameter settings.\"\n",
      " % (time() - start, len(grid_search.grid_scores_)))\n",
      "\n",
      "# Show how score varies with sweep of variable\n",
      "zz = np.array([[x[0]['pca__n_components'], x[1]] for x in grid_search.grid_scores_])\n",
      "zz = zz.T\n",
      "plt.scatter(zz[0,:], zz[1,:])\n",
      "plt.xlabel('num pca dimensions')\n",
      "plt.ylabel('mean score')\n",
      "\n",
      "report(grid_search.grid_scores_, 12)"
     ],
     "language": "python",
     "metadata": {},
     "outputs": [
      {
       "output_type": "stream",
       "stream": "stdout",
       "text": [
        "starting at 2015-01-25 20:42:20.486357\n"
       ]
      },
      {
       "output_type": "stream",
       "stream": "stdout",
       "text": [
        "finished at 2015-01-25 21:12:33.656816\n",
        "Grid Search took 1813.17 seconds for 36 candidate parameter settings.\n",
        "Model with rank: 1\n",
        "Mean validation score: 0.524 (std: 0.002)\n",
        "Parameters: {'pca__n_components': 40, 'svm__C': 6.0, 'pca__random_state': 0, 'svm__kernel': 'rbf', 'pca__whiten': True}\n",
        "\n",
        "Model with rank: 2\n",
        "Mean validation score: 0.524 (std: 0.001)\n",
        "Parameters: {'pca__n_components': 40, 'svm__C': 7.0, 'pca__random_state': 0, 'svm__kernel': 'rbf', 'pca__whiten': True}\n",
        "\n",
        "Model with rank: 3\n",
        "Mean validation score: 0.523 (std: 0.002)\n",
        "Parameters: {'pca__n_components': 40, 'svm__C': 8.0, 'pca__random_state': 0, 'svm__kernel': 'rbf', 'pca__whiten': True}\n",
        "\n",
        "Model with rank: 4\n",
        "Mean validation score: 0.522 (std: 0.002)\n",
        "Parameters: {'pca__n_components': 20, 'svm__C': 8.0, 'pca__random_state': 0, 'svm__kernel': 'rbf', 'pca__whiten': True}\n",
        "\n",
        "Model with rank: 5\n",
        "Mean validation score: 0.522 (std: 0.002)\n",
        "Parameters: {'pca__n_components': 40, 'svm__C': 10.0, 'pca__random_state': 0, 'svm__kernel': 'rbf', 'pca__whiten': True}\n",
        "\n",
        "Model with rank: 6\n",
        "Mean validation score: 0.521 (std: 0.003)\n",
        "Parameters: {'pca__n_components': 20, 'svm__C': 10.0, 'pca__random_state': 0, 'svm__kernel': 'rbf', 'pca__whiten': True}\n",
        "\n",
        "Model with rank: 7\n",
        "Mean validation score: 0.521 (std: 0.003)\n",
        "Parameters: {'pca__n_components': 20, 'svm__C': 7.0, 'pca__random_state': 0, 'svm__kernel': 'rbf', 'pca__whiten': True}\n",
        "\n",
        "Model with rank: 8\n",
        "Mean validation score: 0.521 (std: 0.003)\n",
        "Parameters: {'pca__n_components': 40, 'svm__C': 12.0, 'pca__random_state': 0, 'svm__kernel': 'rbf', 'pca__whiten': True}\n",
        "\n",
        "Model with rank: 9\n",
        "Mean validation score: 0.521 (std: 0.003)\n",
        "Parameters: {'pca__n_components': 20, 'svm__C': 12.0, 'pca__random_state': 0, 'svm__kernel': 'rbf', 'pca__whiten': True}\n",
        "\n",
        "Model with rank: 10\n",
        "Mean validation score: 0.520 (std: 0.002)\n",
        "Parameters: {'pca__n_components': 20, 'svm__C': 6.0, 'pca__random_state': 0, 'svm__kernel': 'rbf', 'pca__whiten': True}\n",
        "\n",
        "Model with rank: 11\n",
        "Mean validation score: 0.520 (std: 0.002)\n",
        "Parameters: {'pca__n_components': 20, 'svm__C': 14.0, 'pca__random_state': 0, 'svm__kernel': 'rbf', 'pca__whiten': True}\n",
        "\n",
        "Model with rank: 12\n",
        "Mean validation score: 0.520 (std: 0.004)\n",
        "Parameters: {'pca__n_components': 40, 'svm__C': 14.0, 'pca__random_state': 0, 'svm__kernel': 'rbf', 'pca__whiten': True}\n",
        "\n"
       ]
      }
     ],
     "prompt_number": 171
    },
    {
     "cell_type": "code",
     "collapsed": false,
     "input": [
      "report(grid_search.grid_scores_, 24)"
     ],
     "language": "python",
     "metadata": {},
     "outputs": [
      {
       "output_type": "stream",
       "stream": "stdout",
       "text": [
        "Model with rank: 1\n",
        "Mean validation score: 0.524 (std: 0.002)\n",
        "Parameters: {'pca__n_components': 40, 'svm__C': 5.0, 'pca__random_state': 0, 'svm__kernel': 'rbf', 'pca__whiten': True}\n",
        "\n",
        "Model with rank: 2\n",
        "Mean validation score: 0.523 (std: 0.002)\n",
        "Parameters: {'pca__n_components': 40, 'svm__C': 4.5, 'pca__random_state': 0, 'svm__kernel': 'rbf', 'pca__whiten': True}\n",
        "\n",
        "Model with rank: 3\n",
        "Mean validation score: 0.521 (std: 0.002)\n",
        "Parameters: {'pca__n_components': 40, 'svm__C': 4.0, 'pca__random_state': 0, 'svm__kernel': 'rbf', 'pca__whiten': True}\n",
        "\n",
        "Model with rank: 4\n",
        "Mean validation score: 0.520 (std: 0.002)\n",
        "Parameters: {'pca__n_components': 20, 'svm__C': 5.0, 'pca__random_state': 0, 'svm__kernel': 'rbf', 'pca__whiten': True}\n",
        "\n",
        "Model with rank: 5\n",
        "Mean validation score: 0.520 (std: 0.002)\n",
        "Parameters: {'pca__n_components': 20, 'svm__C': 4.5, 'pca__random_state': 0, 'svm__kernel': 'rbf', 'pca__whiten': True}\n",
        "\n",
        "Model with rank: 6\n",
        "Mean validation score: 0.519 (std: 0.001)\n",
        "Parameters: {'pca__n_components': 20, 'svm__C': 3.5, 'pca__random_state': 0, 'svm__kernel': 'rbf', 'pca__whiten': True}\n",
        "\n",
        "Model with rank: 7\n",
        "Mean validation score: 0.519 (std: 0.002)\n",
        "Parameters: {'pca__n_components': 20, 'svm__C': 4.0, 'pca__random_state': 0, 'svm__kernel': 'rbf', 'pca__whiten': True}\n",
        "\n",
        "Model with rank: 8\n",
        "Mean validation score: 0.518 (std: 0.002)\n",
        "Parameters: {'pca__n_components': 40, 'svm__C': 3.5, 'pca__random_state': 0, 'svm__kernel': 'rbf', 'pca__whiten': True}\n",
        "\n",
        "Model with rank: 9\n",
        "Mean validation score: 0.517 (std: 0.001)\n",
        "Parameters: {'pca__n_components': 20, 'svm__C': 3.0, 'pca__random_state': 0, 'svm__kernel': 'rbf', 'pca__whiten': True}\n",
        "\n",
        "Model with rank: 10\n",
        "Mean validation score: 0.517 (std: 0.002)\n",
        "Parameters: {'pca__n_components': 40, 'svm__C': 3.0, 'pca__random_state': 0, 'svm__kernel': 'rbf', 'pca__whiten': True}\n",
        "\n",
        "Model with rank: 11\n",
        "Mean validation score: 0.516 (std: 0.001)\n",
        "Parameters: {'pca__n_components': 20, 'svm__C': 2.5, 'pca__random_state': 0, 'svm__kernel': 'rbf', 'pca__whiten': True}\n",
        "\n",
        "Model with rank: 12\n",
        "Mean validation score: 0.515 (std: 0.003)\n",
        "Parameters: {'pca__n_components': 40, 'svm__C': 2.5, 'pca__random_state': 0, 'svm__kernel': 'rbf', 'pca__whiten': True}\n",
        "\n",
        "Model with rank: 13\n",
        "Mean validation score: 0.506 (std: 0.004)\n",
        "Parameters: {'pca__n_components': 60, 'svm__C': 5.0, 'pca__random_state': 0, 'svm__kernel': 'rbf', 'pca__whiten': True}\n",
        "\n",
        "Model with rank: 14\n",
        "Mean validation score: 0.506 (std: 0.004)\n",
        "Parameters: {'pca__n_components': 60, 'svm__C': 4.5, 'pca__random_state': 0, 'svm__kernel': 'rbf', 'pca__whiten': True}\n",
        "\n",
        "Model with rank: 15\n",
        "Mean validation score: 0.504 (std: 0.004)\n",
        "Parameters: {'pca__n_components': 60, 'svm__C': 4.0, 'pca__random_state': 0, 'svm__kernel': 'rbf', 'pca__whiten': True}\n",
        "\n",
        "Model with rank: 16\n",
        "Mean validation score: 0.504 (std: 0.004)\n",
        "Parameters: {'pca__n_components': 60, 'svm__C': 3.5, 'pca__random_state': 0, 'svm__kernel': 'rbf', 'pca__whiten': True}\n",
        "\n",
        "Model with rank: 17\n",
        "Mean validation score: 0.502 (std: 0.004)\n",
        "Parameters: {'pca__n_components': 60, 'svm__C': 3.0, 'pca__random_state': 0, 'svm__kernel': 'rbf', 'pca__whiten': True}\n",
        "\n",
        "Model with rank: 18\n",
        "Mean validation score: 0.500 (std: 0.004)\n",
        "Parameters: {'pca__n_components': 60, 'svm__C': 2.5, 'pca__random_state': 0, 'svm__kernel': 'rbf', 'pca__whiten': True}\n",
        "\n"
       ]
      }
     ],
     "prompt_number": 170
    },
    {
     "cell_type": "code",
     "collapsed": false,
     "input": [
      "%store -r models_pca_svm\n",
      "%store -r preds_pca_svm\n",
      "    \n",
      "if 'models_pca_svm' in globals():\n",
      "    print 'pca variables already loaded into memory! dont need to read image files.'\n",
      "else:\n",
      "    # Now we have the best, we have to turn probability on\n",
      "    pipe = Pipeline(steps=[('pca', RandomizedPCA(n_components=40, whiten=True)), ('svm', svm.SVC(C=7.0, kernel='rbf', probability=True))])\n",
      "\n",
      "    print \"starting fit and prediction of final model at time:\", datetime.datetime.now()\n",
      "    t0 = time()\n",
      "\n",
      "    pipe.fit(X, y)\n",
      "    y_submission = pipe.predict_proba(X_submission)\n",
      "    y_class = np.array([list(x).index(max(x)) for x in y_submission])\n",
      "\n",
      "    print \"completed fit and prediction in %.2f seconds\" % (time()-t0)\n",
      "    %store models_pca_svm\n",
      "    %store preds_pca_svm"
     ],
     "language": "python",
     "metadata": {},
     "outputs": [
      {
       "output_type": "stream",
       "stream": "stdout",
       "text": [
        "starting fit and prediction of final model at time: 2015-01-28 20:07:55.338853\n",
        "completed fit and prediction in 984.68 seconds"
       ]
      },
      {
       "output_type": "stream",
       "stream": "stdout",
       "text": [
        "\n"
       ]
      }
     ],
     "prompt_number": 9
    },
    {
     "cell_type": "code",
     "collapsed": false,
     "input": [
      "submission_filenames = np.array([os.path.basename(x) for x in test_paths])\n",
      "df = pd.DataFrame(y_submission, columns=train_paths_by_type.keys(), index=submission_filenames)\n",
      "df.index.name = 'image'\n",
      "header = sort(train_paths_by_type.keys())\n",
      "df = df[header]\n",
      "df.to_csv('fourth_submission.csv')"
     ],
     "language": "python",
     "metadata": {},
     "outputs": [],
     "prompt_number": 173
    },
    {
     "cell_type": "code",
     "collapsed": false,
     "input": [
      "!gzip fourth_submission.csv"
     ],
     "language": "python",
     "metadata": {},
     "outputs": [],
     "prompt_number": 174
    },
    {
     "cell_type": "code",
     "collapsed": false,
     "input": [
      "!ls *.gz"
     ],
     "language": "python",
     "metadata": {},
     "outputs": [
      {
       "output_type": "stream",
       "stream": "stdout",
       "text": [
        "first_submission (copy).csv.gz\tfourth_submission.csv.gz  third_submission.csv.gz\r\n",
        "first_submission.csv.gz\t\tsecond_submission.csv.gz\r\n"
       ]
      }
     ],
     "prompt_number": 175
    },
    {
     "cell_type": "code",
     "collapsed": false,
     "input": [
      "%pwd"
     ],
     "language": "python",
     "metadata": {},
     "outputs": [
      {
       "metadata": {},
       "output_type": "pyout",
       "prompt_number": 158,
       "text": [
        "u'/home/tony/code/python/notebooks/plankton'"
       ]
      }
     ],
     "prompt_number": 158
    },
    {
     "cell_type": "code",
     "collapsed": false,
     "input": [
      "from sklearn.ensemble import RandomForestClassifier"
     ],
     "language": "python",
     "metadata": {},
     "outputs": [],
     "prompt_number": 14
    },
    {
     "cell_type": "code",
     "collapsed": false,
     "input": [
      "from sklearn.ensemble import RandomForestClassifier\n",
      "\n",
      "pipe = Pipeline(steps=[('pca', RandomizedPCA()), ('rf', RandomForestClassifier())])\n",
      "\n",
      "param_dist = dict(pca__n_components=[15,20,30,40],\n",
      "                  pca__whiten=[True],\n",
      "                  pca__random_state=[0],\n",
      "                  rf__max_depth = [2,3,4,5,None],\n",
      "                  rf__max_features = [1,2,3,5,7,10],\n",
      "                  rf__min_samples_split = [1,2,3,4,5,7,10],\n",
      "                  rf__min_samples_leaf = [1,2,3,4,5,7,10],\n",
      "                  rf__bootstrap = [True, False],\n",
      "                  rf__criterion = [\"entropy\", \"gini\"])\n",
      "\n",
      "grid_search2 = RandomizedSearchCV(pipe, param_distributions=param_dist, n_jobs=6, n_iter=48, refit=True)\n",
      "#grid_search2 = GridSearchCV(pipe, param_grid=param_dist, n_jobs=1, refit=False)\n",
      "\n",
      "print \"starting at\", datetime.datetime.now()\n",
      "start = time()\n",
      "grid_search2.fit(X, y)\n",
      "print \"finished at\", datetime.datetime.now()\n",
      "print(\"Grid Search took %.2f seconds for %d candidate parameter settings.\"\n",
      " % (time() - start, len(grid_search2.grid_scores_)))\n",
      "report(grid_search2.grid_scores_, 12)"
     ],
     "language": "python",
     "metadata": {},
     "outputs": [
      {
       "output_type": "stream",
       "stream": "stdout",
       "text": [
        "starting at 2015-01-28 21:08:04.094404\n"
       ]
      },
      {
       "output_type": "stream",
       "stream": "stdout",
       "text": [
        "finished at 2015-01-28 21:14:52.820319\n",
        "Grid Search took 408.73 seconds for 48 candidate parameter settings.\n",
        "Model with rank: 1\n",
        "Mean validation score: 0.436 (std: 0.002)\n",
        "Parameters: {'rf__bootstrap': False, 'rf__max_depth': None, 'pca__n_components': 30, 'pca__whiten': True, 'rf__min_samples_split': 5, 'rf__max_features': 7, 'pca__random_state': 0, 'rf__criterion': 'gini', 'rf__min_samples_leaf': 1}\n",
        "\n",
        "Model with rank: 2\n",
        "Mean validation score: 0.436 (std: 0.003)\n",
        "Parameters: {'rf__bootstrap': False, 'rf__max_depth': None, 'pca__n_components': 40, 'pca__whiten': True, 'rf__min_samples_split': 10, 'rf__max_features': 7, 'pca__random_state': 0, 'rf__criterion': 'entropy', 'rf__min_samples_leaf': 2}\n",
        "\n",
        "Model with rank: 3\n",
        "Mean validation score: 0.432 (std: 0.002)\n",
        "Parameters: {'rf__bootstrap': False, 'rf__max_depth': None, 'pca__n_components': 40, 'pca__whiten': True, 'rf__min_samples_split': 7, 'rf__max_features': 7, 'pca__random_state': 0, 'rf__criterion': 'entropy', 'rf__min_samples_leaf': 10}\n",
        "\n",
        "Model with rank: 4\n",
        "Mean validation score: 0.418 (std: 0.002)\n",
        "Parameters: {'rf__bootstrap': True, 'rf__max_depth': None, 'pca__n_components': 20, 'pca__whiten': True, 'rf__min_samples_split': 4, 'rf__max_features': 7, 'pca__random_state': 0, 'rf__criterion': 'entropy', 'rf__min_samples_leaf': 1}\n",
        "\n",
        "Model with rank: 5\n",
        "Mean validation score: 0.417 (std: 0.004)\n",
        "Parameters: {'rf__bootstrap': True, 'rf__max_depth': None, 'pca__n_components': 30, 'pca__whiten': True, 'rf__min_samples_split': 7, 'rf__max_features': 5, 'pca__random_state': 0, 'rf__criterion': 'gini', 'rf__min_samples_leaf': 7}\n",
        "\n",
        "Model with rank: 6\n",
        "Mean validation score: 0.406 (std: 0.003)\n",
        "Parameters: {'rf__bootstrap': False, 'rf__max_depth': None, 'pca__n_components': 40, 'pca__whiten': True, 'rf__min_samples_split': 5, 'rf__max_features': 3, 'pca__random_state': 0, 'rf__criterion': 'entropy', 'rf__min_samples_leaf': 1}\n",
        "\n",
        "Model with rank: 7\n",
        "Mean validation score: 0.403 (std: 0.002)\n",
        "Parameters: {'rf__bootstrap': True, 'rf__max_depth': None, 'pca__n_components': 20, 'pca__whiten': True, 'rf__min_samples_split': 10, 'rf__max_features': 3, 'pca__random_state': 0, 'rf__criterion': 'gini', 'rf__min_samples_leaf': 10}\n",
        "\n",
        "Model with rank: 8\n",
        "Mean validation score: 0.389 (std: 0.001)\n",
        "Parameters: {'rf__bootstrap': False, 'rf__max_depth': None, 'pca__n_components': 15, 'pca__whiten': True, 'rf__min_samples_split': 4, 'rf__max_features': 1, 'pca__random_state': 0, 'rf__criterion': 'gini', 'rf__min_samples_leaf': 1}\n",
        "\n",
        "Model with rank: 9\n",
        "Mean validation score: 0.346 (std: 0.001)\n",
        "Parameters: {'rf__bootstrap': True, 'rf__max_depth': None, 'pca__n_components': 30, 'pca__whiten': True, 'rf__min_samples_split': 10, 'rf__max_features': 1, 'pca__random_state': 0, 'rf__criterion': 'gini', 'rf__min_samples_leaf': 7}\n",
        "\n",
        "Model with rank: 10\n",
        "Mean validation score: 0.284 (std: 0.004)\n",
        "Parameters: {'rf__bootstrap': False, 'rf__max_depth': 5, 'pca__n_components': 20, 'pca__whiten': True, 'rf__min_samples_split': 5, 'rf__max_features': 7, 'pca__random_state': 0, 'rf__criterion': 'entropy', 'rf__min_samples_leaf': 10}\n",
        "\n",
        "Model with rank: 11\n",
        "Mean validation score: 0.256 (std: 0.006)\n",
        "Parameters: {'rf__bootstrap': True, 'rf__max_depth': 5, 'pca__n_components': 20, 'pca__whiten': True, 'rf__min_samples_split': 7, 'rf__max_features': 2, 'pca__random_state': 0, 'rf__criterion': 'entropy', 'rf__min_samples_leaf': 3}\n",
        "\n",
        "Model with rank: 12\n",
        "Mean validation score: 0.233 (std: 0.002)\n",
        "Parameters: {'rf__bootstrap': False, 'rf__max_depth': 5, 'pca__n_components': 40, 'pca__whiten': True, 'rf__min_samples_split': 2, 'rf__max_features': 5, 'pca__random_state': 0, 'rf__criterion': 'gini', 'rf__min_samples_leaf': 3}\n",
        "\n"
       ]
      }
     ],
     "prompt_number": 19
    },
    {
     "cell_type": "code",
     "collapsed": false,
     "input": [
      "#{'rf__bootstrap': False, 'rf__max_depth': None, 'pca__n_components': 25, 'pca__whiten': True, 'rf__min_samples_split': 7, 'rf__max_features': 7, 'pca__random_state': 0, 'rf__criterion': 'gini', 'rf__min_samples_leaf': 7}\n",
      "#rf = RandomForestClassifier(bootstrap=False, )\n",
      "#y_pred = grid_search2.predict_proba(X_test)\n",
      "#{'rf__bootstrap': False, 'rf__max_depth': None, \n",
      "# 'pca__n_components': 30, 'pca__whiten': True, \n",
      "# 'rf__min_samples_split': 5, 'rf__max_features': 7, \n",
      "# 'pca__random_state': 0, 'rf__criterion': 'gini',\n",
      "# 'rf__min_samples_leaf': 1}\n",
      "\n",
      "pipe = Pipeline(steps=[('pca', RandomizedPCA(n_components=30, whiten=True)), ('rf', RandomForestClassifier(bootstrap=False, max_depth=None, min_samples_split = 5, max_features = 7, criterion = 'gini', min_samples_leaf = 1, ))])\n",
      "\n",
      "print \"starting fit and prediction of final model at time:\", datetime.datetime.now()\n",
      "t0 = time()\n",
      "\n",
      "pipe.fit(X_train, y_train)\n",
      "y_pred = pipe.predict_proba(X_test)\n",
      "\n",
      "print \"completed fit and prediction in %.2f seconds\" % (time()-t0)\n",
      "\n",
      "print_scoring(y_pred)\n",
      "\n",
      "%store models_rf"
     ],
     "language": "python",
     "metadata": {},
     "outputs": [
      {
       "output_type": "stream",
       "stream": "stdout",
       "text": [
        "starting fit and prediction of final model at time: 2015-01-28 21:53:46.514417\n",
        "completed fit and prediction in 5.65 seconds"
       ]
      },
      {
       "output_type": "stream",
       "stream": "stdout",
       "text": [
        "\n",
        "classifier final score:    "
       ]
      },
      {
       "output_type": "stream",
       "stream": "stdout",
       "text": [
        " 8.90664341234\n",
        "f1-score: 0.402   accuracy: 0.428   precision: 0.392   recall: 0.428\n"
       ]
      },
      {
       "output_type": "stream",
       "stream": "stderr",
       "text": [
        "/home/tony/anaconda/lib/python2.7/site-packages/sklearn/metrics/metrics.py:1771: UndefinedMetricWarning: F-score is ill-defined and being set to 0.0 in labels with no predicted samples.\n",
        "  'precision', 'predicted', average, warn_for)\n",
        "/home/tony/anaconda/lib/python2.7/site-packages/sklearn/metrics/metrics.py:1771: UndefinedMetricWarning: Precision is ill-defined and being set to 0.0 in labels with no predicted samples.\n",
        "  'precision', 'predicted', average, warn_for)\n"
       ]
      }
     ],
     "prompt_number": 31
    },
    {
     "cell_type": "code",
     "collapsed": false,
     "input": [
      "print_scoring(y_pred)"
     ],
     "language": "python",
     "metadata": {},
     "outputs": [
      {
       "output_type": "stream",
       "stream": "stdout",
       "text": [
        "classifier final score:     0.276319379166\n",
        "f1-score: 1.000   accuracy: 1.000   precision: 1.000   recall: 1.000"
       ]
      },
      {
       "output_type": "stream",
       "stream": "stdout",
       "text": [
        "\n"
       ]
      }
     ],
     "prompt_number": 30
    },
    {
     "cell_type": "code",
     "collapsed": false,
     "input": [],
     "language": "python",
     "metadata": {},
     "outputs": []
    }
   ],
   "metadata": {}
  }
 ]
}